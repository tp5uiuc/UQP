{
 "cells": [
  {
   "cell_type": "markdown",
   "metadata": {},
   "source": [
    "# Sensitivity analysis using Sobol indices"
   ]
  },
  {
   "cell_type": "code",
   "execution_count": 1,
   "metadata": {},
   "outputs": [],
   "source": [
    "import numpy as np\n",
    "from model import NeoHookeanSolutionGenerator\n",
    "from matplotlib import pyplot as plt\n",
    "\n",
    "import seaborn as sns\n",
    "%matplotlib inline\n",
    "\n",
    "sns.set_theme(style=\"white\")\n",
    "\n",
    "from matplotlib.colors import to_rgb\n",
    "import pandas as pd\n",
    "from scipy.stats import gaussian_kde\n",
    "\n",
    "from tqdm.notebook import tqdm as tqdm\n",
    "from itertools import product"
   ]
  },
  {
   "cell_type": "markdown",
   "metadata": {},
   "source": [
    "## Common setup"
   ]
  },
  {
   "cell_type": "code",
   "execution_count": 2,
   "metadata": {},
   "outputs": [],
   "source": [
    "parameter_keys = [\"c_1\", \"V_wall\", \"nu_s\"]"
   ]
  },
  {
   "cell_type": "code",
   "execution_count": 3,
   "metadata": {},
   "outputs": [],
   "source": [
    "# These are fixed, see synthetic_data\n",
    "omega_val = np.pi\n",
    "L_val = 2.0\n",
    "zeta_val = 0.5\n",
    "nu_f_val = 0.125\n",
    "# V_wall_val = 1.0\n",
    "\n",
    "offset = 0.0\n",
    "res_t = 20\n",
    "# time stations\n",
    "time_samples = np.linspace(\n",
    "    0 + offset / omega_val, (2 * np.pi) / omega_val, res_t, endpoint=False\n",
    ")\n",
    "# number of data points\n",
    "n_samples = len(time_samples)\n",
    "# y stations\n",
    "y_stations = np.array([0.2, 0.4, 0.6, 0.8])"
   ]
  },
  {
   "cell_type": "code",
   "execution_count": 4,
   "metadata": {},
   "outputs": [],
   "source": [
    "# Solution generator\n",
    "solution_generator = NeoHookeanSolutionGenerator(omega_val, L_val, zeta_val, nu_f_val)"
   ]
  },
  {
   "cell_type": "markdown",
   "metadata": {},
   "source": [
    "### Model evaluation"
   ]
  },
  {
   "cell_type": "code",
   "execution_count": 5,
   "metadata": {},
   "outputs": [],
   "source": [
    "def generate_signal(\n",
    "    fluid_velocity_gen, solid_velocity_gen, T=time_samples, y_stations=y_stations\n",
    "):\n",
    "    y_profiles = np.zeros((len(y_stations)))\n",
    "\n",
    "    for i_station, y_station in enumerate(y_stations):\n",
    "        solid_velocity = solid_velocity_gen(y_station, T)\n",
    "        fluid_velocity = fluid_velocity_gen(y_station, T)\n",
    "        solid_mask = y_station < 0.5\n",
    "        # Take the max over time as a scalar indicator\n",
    "        signal = solid_mask * solid_velocity + (1.0 - solid_mask) * fluid_velocity\n",
    "        y_profiles[i_station] = 0.5 * (np.max(signal) - np.min(signal))\n",
    "\n",
    "    return y_profiles\n",
    "\n",
    "def signal_from_(estimates):\n",
    "    global solution_generator\n",
    "    v_f, v_s = solution_generator.generate_velocities_for(*estimates)\n",
    "    signal = generate_signal(v_f, v_s)\n",
    "    return signal"
   ]
  },
  {
   "cell_type": "markdown",
   "metadata": {},
   "source": [
    "## Chains from Bayesian inference"
   ]
  },
  {
   "cell_type": "code",
   "execution_count": 6,
   "metadata": {},
   "outputs": [],
   "source": [
    "chains = pd.read_pickle(\"chains.pkl\")"
   ]
  },
  {
   "cell_type": "markdown",
   "metadata": {},
   "source": [
    "## Kernel Density (pdf) Estimates"
   ]
  },
  {
   "cell_type": "code",
   "execution_count": 7,
   "metadata": {},
   "outputs": [
    {
     "name": "stdout",
     "output_type": "stream",
     "text": [
      "Integrated pdf is  0.9993386388823118\n",
      "Integrated pdf is  0.9999998855162321\n",
      "Integrated pdf is  0.9999976534691107\n"
     ]
    },
    {
     "data": {
      "text/plain": [
       "0.999997653513043"
      ]
     },
     "execution_count": 7,
     "metadata": {},
     "output_type": "execute_result"
    }
   ],
   "source": [
    "kdes = {}\n",
    "limits = {'c_1': (0.01, 0.12), 'V_wall' : (0.9, 1.1), 'nu_s' : (0.0, 0.035)}\n",
    "\n",
    "for parameter, chain in chains.items():\n",
    "    kdes[parameter] = gaussian_kde(chain)\n",
    "    # x = np.linspace(np.min(chain), np.max(chain), 100)\n",
    "    # p = 75 * f(x)\n",
    "    val = kdes[parameter].integrate_box(limits[parameter][0], limits[parameter][1])\n",
    "    print(\"Integrated pdf is \", val)\n",
    "    \n",
    "kdes['nu_s'].integrate_box(0.0, 1.0)"
   ]
  },
  {
   "cell_type": "markdown",
   "metadata": {},
   "source": [
    "# Sobol index calculations\n",
    "\n",
    "## Setup"
   ]
  },
  {
   "cell_type": "code",
   "execution_count": 8,
   "metadata": {},
   "outputs": [],
   "source": [
    "n_quadrature_points = [21, 21, 41]\n",
    "n_quadrature_points = dict(zip(parameter_keys, n_quadrature_points))\n",
    "\n",
    "quadrature_points = {}\n",
    "delta_points = {}\n",
    "quadrature_weights = {}\n",
    "numerical_pdfs = {}\n",
    "quadrature_pdfs = {}\n",
    "\n",
    "limits = {'c_1': (0.01, 0.12), 'V_wall' : (0.9, 1.1), 'nu_s' : (0.0, 0.035)}\n",
    "\n",
    "sobol_indices = {}\n",
    "sobol_indices_s = {}\n",
    "\n",
    "for parameter, chain in chains.items():\n",
    "    # Quadrature points\n",
    "    quadrature_points[parameter], delta_points[parameter] = np.linspace(\n",
    "        limits[parameter][0], limits[parameter][1], n_quadrature_points[parameter], retstep=True\n",
    "    )\n",
    "\n",
    "    # Quadrature weights\n",
    "    temp = np.ones((n_quadrature_points[parameter]))\n",
    "    temp[0] = 0.5\n",
    "    temp[-1] = 0.5\n",
    "    quadrature_weights[parameter] = temp * delta_points[parameter]\n",
    "\n",
    "    # Densities\n",
    "    numerical_pdfs[parameter] = kdes[parameter](quadrature_points[parameter])\n",
    "    \n",
    "    # Quad * densitiies\n",
    "    quadrature_pdfs[parameter] = quadrature_weights[parameter] * numerical_pdfs[parameter]\n",
    "    \n",
    "\n",
    "quadrature_mesh = np.meshgrid(*quadrature_points.values())\n",
    "# quadrature_weights_mesh = np.meshgrid(*quadrature_weights.values())\n",
    "\n",
    "\n",
    "def tensorial_product(x):\n",
    "    return (\n",
    "        x[\"c_1\"].reshape(-1, 1, 1)\n",
    "        * x[\"V_wall\"].reshape(1, -1, 1)\n",
    "        * x[\"nu_s\"].reshape(1, 1, -1)\n",
    "    )\n",
    "\n",
    "\n",
    "# quadrature_weights_mesh = tensorial_product(quadrature_weights)\n",
    "# joint_pdf_mesh = tensorial_product(numerical_pdfs)\n",
    "# weights = quadrature_weights[k] * numerical_pdfs[k]\n",
    "\n",
    "# sum is close to 1\n",
    "quad_pdf_mesh = tensorial_product(quadrature_pdfs) # quadrature_weights_mesh * joint_pdf_mesh"
   ]
  },
  {
   "cell_type": "code",
   "execution_count": 9,
   "metadata": {},
   "outputs": [
    {
     "name": "stdout",
     "output_type": "stream",
     "text": [
      "int f for c_1 is :  0.9986592673203363\n",
      "int f for V_wall is :  1.0012719140247637\n",
      "int f for nu_s is :  0.9999954089813299\n",
      "Joint integral is  0.9999248853535075\n"
     ]
    }
   ],
   "source": [
    "# Sanity checks\n",
    "for k in parameter_keys:\n",
    "    print(f\"int f for {k} is : \", np.sum(quadrature_pdfs[k]))\n",
    "print(\"Joint integral is \", np.sum(quad_pdf_mesh))\n",
    "# np.sum(np.sum(joint_pdf_mesh * quadrature_weights_mesh, axis=1), axis=1)\n",
    "# np.sum(numerical_pdfs[\"nu_s\"] * quadrature_weights[\"nu_s\"])\n",
    "# quad_pdf_mesh.shape"
   ]
  },
  {
   "cell_type": "markdown",
   "metadata": {},
   "source": [
    "## Evaluate model at these quadrature points"
   ]
  },
  {
   "cell_type": "code",
   "execution_count": 10,
   "metadata": {},
   "outputs": [
    {
     "data": {
      "application/vnd.jupyter.widget-view+json": {
       "model_id": "63a15c552bef41649a13fd9a64856143",
       "version_major": 2,
       "version_minor": 0
      },
      "text/plain": [
       "HBox(children=(HTML(value=''), FloatProgress(value=1.0, bar_style='info', layout=Layout(width='20px'), max=1.0…"
      ]
     },
     "metadata": {},
     "output_type": "display_data"
    },
    {
     "name": "stdout",
     "output_type": "stream",
     "text": [
      "\n"
     ]
    }
   ],
   "source": [
    "n_points = quad_pdf_mesh.size\n",
    "f_evals_across_stations = -np.inf * np.ones(quad_pdf_mesh.shape + (len(y_stations),))\n",
    "\n",
    "for i, j, k in tqdm(product(*map(range, n_quadrature_points.values()))):\n",
    "    eval_params = (\n",
    "        quadrature_points[\"c_1\"][i],\n",
    "        quadrature_points[\"V_wall\"][j],\n",
    "        quadrature_points[\"nu_s\"][k],\n",
    "    )\n",
    "    f_evals_across_stations[i, j, k] = signal_from_(eval_params)"
   ]
  },
  {
   "cell_type": "code",
   "execution_count": 11,
   "metadata": {},
   "outputs": [
    {
     "name": "stdout",
     "output_type": "stream",
     "text": [
      "Please select the QoI index using the variable below\n"
     ]
    }
   ],
   "source": [
    "print(\"Please select the QoI index using the variable below\")\n",
    "signal_index = 3\n",
    "\n",
    "# Take the first index\n",
    "f_evals = f_evals_across_stations[..., signal_index]"
   ]
  },
  {
   "cell_type": "markdown",
   "metadata": {},
   "source": [
    "## Zero-order\n",
    "### Calculate $f_0$ and $D$"
   ]
  },
  {
   "cell_type": "code",
   "execution_count": 12,
   "metadata": {},
   "outputs": [
    {
     "name": "stdout",
     "output_type": "stream",
     "text": [
      "f_0 :  0.5059037367466327\n",
      "D :  0.00037337837188144984\n"
     ]
    }
   ],
   "source": [
    "sobol_indices[\"f_0\"] = np.sum(quad_pdf_mesh * f_evals)\n",
    "sobol_indices[\"total_variance\"] = (\n",
    "    np.sum(quad_pdf_mesh * (f_evals ** 2)) - (sobol_indices[\"f_0\"] ** 2)\n",
    ")\n",
    "\n",
    "print(\"f_0 : \", sobol_indices[\"f_0\"])\n",
    "print(\"D : \", sobol_indices[\"total_variance\"])"
   ]
  },
  {
   "cell_type": "markdown",
   "metadata": {},
   "source": [
    "## First-order\n",
    "### Calculate $f_{i}$"
   ]
  },
  {
   "cell_type": "code",
   "execution_count": 13,
   "metadata": {},
   "outputs": [],
   "source": [
    "def key2ind(key):\n",
    "    return parameter_keys.index(key)\n",
    "\n",
    "def calculate_first_order_integral_along_(key):\n",
    "    ind = key2ind(key)\n",
    "\n",
    "    def compare_with(another_key):\n",
    "        if key == another_key:\n",
    "            quad_pdf = np.ones_like(quadrature_weights[another_key])\n",
    "        else:\n",
    "            quad_pdf = quadrature_pdfs[another_key]\n",
    "        return quad_pdf\n",
    "\n",
    "    quad_pdf_c1 = compare_with(\"c_1\")\n",
    "    quad_pdf_v = compare_with(\"V_wall\")\n",
    "    quad_pdf_n = compare_with(\"nu_s\")\n",
    "\n",
    "    quad_local_pdfs = (\n",
    "        quad_pdf_c1.reshape(-1, 1, 1)\n",
    "        * quad_pdf_v.reshape(1, -1, 1)\n",
    "        * quad_pdf_n.reshape(1, 1, -1)\n",
    "    )\n",
    "    ax = [0, 1, 2]\n",
    "    ax.remove(ind)\n",
    "    return np.sum(quad_local_pdfs * f_evals, axis=tuple(ax))\n",
    "\n",
    "\n",
    "def calculate_first_order_sobol_along(key, indices):\n",
    "    return calculate_first_order_integral_along_(k) - indices[\"f_0\"]\n",
    "\n",
    "for k in parameter_keys:\n",
    "    sobol_indices[k] = calculate_first_order_sobol_along(k, sobol_indices)"
   ]
  },
  {
   "cell_type": "markdown",
   "metadata": {},
   "source": [
    "### Calculate $D_i$"
   ]
  },
  {
   "cell_type": "code",
   "execution_count": 14,
   "metadata": {},
   "outputs": [],
   "source": [
    "for k in parameter_keys:\n",
    "    sobol_indices[\"variance_\" + k] = np.sum(quadrature_pdfs[k] * (sobol_indices[k] ** 2))"
   ]
  },
  {
   "cell_type": "code",
   "execution_count": 15,
   "metadata": {},
   "outputs": [
    {
     "name": "stdout",
     "output_type": "stream",
     "text": [
      "Variance in c_1 : 0.00018902278122860636\n",
      "Variance in V_wall : 0.00010422682235538212\n",
      "Variance in nu_s : 5.472356075739316e-06\n"
     ]
    }
   ],
   "source": [
    "for k in parameter_keys:\n",
    "    print(f\"Variance in {k} :\", sobol_indices[\"variance_\" + k])"
   ]
  },
  {
   "cell_type": "markdown",
   "metadata": {},
   "source": [
    "### Calculate $S_i$"
   ]
  },
  {
   "cell_type": "code",
   "execution_count": 16,
   "metadata": {},
   "outputs": [
    {
     "name": "stdout",
     "output_type": "stream",
     "text": [
      "First order sobol index in c_1 : 0.5062499476767293\n",
      "First order sobol index in V_wall : 0.2791453126494291\n",
      "First order sobol index in nu_s : 0.01465632850709635\n"
     ]
    }
   ],
   "source": [
    "for k in parameter_keys:\n",
    "    sobol_indices_s[k] = sobol_indices[\"variance_\" + k] / sobol_indices[\"total_variance\"]\n",
    "    print(f\"First order sobol index in {k} :\", sobol_indices_s[k])"
   ]
  },
  {
   "cell_type": "markdown",
   "metadata": {},
   "source": [
    "## Second-order\n",
    "### Calculate $f_{ij}$"
   ]
  },
  {
   "cell_type": "code",
   "execution_count": 17,
   "metadata": {},
   "outputs": [],
   "source": [
    "def calculate_second_order_integral_along_(key1, key2):\n",
    "    ind1 = key2ind(key1)\n",
    "    ind2 = key2ind(key2)\n",
    "\n",
    "    ax = [0, 1, 2]\n",
    "    ax.remove(ind1)\n",
    "    ax.remove(ind2)\n",
    "\n",
    "    ind3 = ax[0]\n",
    "    key = parameter_keys[ind3]\n",
    "\n",
    "    def compare_with(another_key):\n",
    "        if key != another_key:\n",
    "            quad_pdf = np.ones_like(quadrature_weights[another_key])\n",
    "        else:\n",
    "            quad_pdf = quadrature_pdfs[another_key]\n",
    "        return quad_pdf\n",
    "\n",
    "    quad_pdf_c1 = compare_with(\"c_1\")\n",
    "    quad_pdf_v = compare_with(\"V_wall\")\n",
    "    quad_pdf_n = compare_with(\"nu_s\")\n",
    "\n",
    "    quad_local_pdfs = (\n",
    "        quad_pdf_c1.reshape(-1, 1, 1)\n",
    "        * quad_pdf_v.reshape(1, -1, 1)\n",
    "        * quad_pdf_n.reshape(1, 1, -1)\n",
    "    )\n",
    "    return np.sum(quad_local_pdfs * f_evals, axis=tuple(ax))\n",
    "\n",
    "\n",
    "def calculate_second_order_sobol_along(key1, key2, indices):\n",
    "    return (\n",
    "        calculate_second_order_integral_along_(key1, key2)\n",
    "        - indices[key1].reshape(-1, 1)\n",
    "        - indices[key2].reshape(1, -1)\n",
    "        - indices[\"f_0\"]\n",
    "    )\n",
    "\n",
    "sobol_indices[\"c_1,V_wall\"] = calculate_second_order_sobol_along(\"c_1\", \"V_wall\", sobol_indices)\n",
    "sobol_indices[\"V_wall,nu_s\"] = calculate_second_order_sobol_along(\"V_wall\", \"nu_s\", sobol_indices)\n",
    "sobol_indices[\"c_1,nu_s\"] = calculate_second_order_sobol_along(\"c_1\", \"nu_s\", sobol_indices)"
   ]
  },
  {
   "cell_type": "markdown",
   "metadata": {},
   "source": [
    "### Calculate $D_{ij}$"
   ]
  },
  {
   "cell_type": "code",
   "execution_count": 18,
   "metadata": {},
   "outputs": [],
   "source": [
    "parameter_pair_keys = [\"c_1,V_wall\", \"V_wall,nu_s\", \"c_1,nu_s\"]\n",
    "for k in parameter_pair_keys:\n",
    "    k1, k2 = k.split(\",\")\n",
    "    pair_quad_pdfs = np.outer(quadrature_pdfs[k1], quadrature_pdfs[k2])\n",
    "    sobol_indices[\"variance_\" + k] = np.sum(pair_quad_pdfs * (sobol_indices[k] ** 2))"
   ]
  },
  {
   "cell_type": "code",
   "execution_count": 19,
   "metadata": {},
   "outputs": [
    {
     "name": "stdout",
     "output_type": "stream",
     "text": [
      "Variance in c_1,V_wall : 7.697644882109902e-08\n",
      "Variance in V_wall,nu_s : 2.2285278772066632e-09\n",
      "Variance in c_1,nu_s : 5.637291972280213e-05\n"
     ]
    }
   ],
   "source": [
    "for k in parameter_pair_keys:\n",
    "    print(f\"Variance in {k} :\", sobol_indices[\"variance_\" + k])"
   ]
  },
  {
   "cell_type": "markdown",
   "metadata": {},
   "source": [
    "### Calculate $S_{ij}$"
   ]
  },
  {
   "cell_type": "code",
   "execution_count": 20,
   "metadata": {},
   "outputs": [
    {
     "name": "stdout",
     "output_type": "stream",
     "text": [
      "Second order sobol index for ('c_1', 'V_wall') : 0.00020616204530866496\n",
      "Second order sobol index for ('V_wall', 'nu_s') : 5.968551059819383e-06\n",
      "Second order sobol index for ('c_1', 'nu_s') : 0.1509806779614458\n"
     ]
    }
   ],
   "source": [
    "for k in parameter_pair_keys:\n",
    "    sobol_indices_s[k] = sobol_indices[\"variance_\" + k] / sobol_indices[\"total_variance\"]\n",
    "    print(\n",
    "        \"Second order sobol index for {} :\".format(tuple(k.split(\",\"))),\n",
    "        sobol_indices_s[k]\n",
    "    )"
   ]
  },
  {
   "cell_type": "code",
   "execution_count": 21,
   "metadata": {},
   "outputs": [
    {
     "data": {
      "text/plain": [
       "0.9512443973910689"
      ]
     },
     "execution_count": 21,
     "metadata": {},
     "output_type": "execute_result"
    }
   ],
   "source": [
    "# Total sum of sobol indices\n",
    "from functools import reduce\n",
    "reduce(lambda x, y : x + y, sobol_indices_s.values())\n",
    "# sobol_indices_s.values()"
   ]
  },
  {
   "cell_type": "code",
   "execution_count": 22,
   "metadata": {},
   "outputs": [
    {
     "name": "stdout",
     "output_type": "stream",
     "text": [
      "c_1 0.5062499476767293\n",
      "V_wall 0.2791453126494291\n",
      "nu_s 0.01465632850709635\n",
      "c_1,V_wall 0.00020616204530866496\n",
      "V_wall,nu_s 5.968551059819383e-06\n",
      "c_1,nu_s 0.1509806779614458\n"
     ]
    }
   ],
   "source": [
    "for k, v in sobol_indices_s.items():\n",
    "    print(k, v)"
   ]
  },
  {
   "cell_type": "markdown",
   "metadata": {},
   "source": [
    "## Total Sensitivity"
   ]
  },
  {
   "cell_type": "code",
   "execution_count": 23,
   "metadata": {},
   "outputs": [],
   "source": [
    "sensitivities = {}\n",
    "sensitivities[\"c_1\"] = (\n",
    "    sobol_indices_s[\"c_1\"]\n",
    "    + sobol_indices_s[\"c_1,V_wall\"]\n",
    "    + sobol_indices_s[\"c_1,nu_s\"]\n",
    ")\n",
    "sensitivities[\"V_wall\"] = (\n",
    "    sobol_indices_s[\"V_wall\"]\n",
    "    + sobol_indices_s[\"c_1,V_wall\"]\n",
    "    + sobol_indices_s[\"V_wall,nu_s\"]\n",
    ")\n",
    "sensitivities[\"nu_s\"] = (\n",
    "    sobol_indices_s[\"nu_s\"]\n",
    "    + sobol_indices_s[\"c_1,nu_s\"]\n",
    "    + sobol_indices_s[\"V_wall,nu_s\"]\n",
    ")"
   ]
  },
  {
   "cell_type": "code",
   "execution_count": 24,
   "metadata": {},
   "outputs": [
    {
     "name": "stdout",
     "output_type": "stream",
     "text": [
      "Total sensitivity to parameter c_1 : 0.6574367876834837\n",
      "Total sensitivity to parameter V_wall : 0.2793574432457976\n",
      "Total sensitivity to parameter nu_s : 0.16564297501960198\n"
     ]
    }
   ],
   "source": [
    "for k in parameter_keys:\n",
    "    print(f\"Total sensitivity to parameter {k} :\", sensitivities[k])"
   ]
  },
  {
   "cell_type": "markdown",
   "metadata": {},
   "source": [
    "## Sanity checks, ignore"
   ]
  },
  {
   "cell_type": "code",
   "execution_count": 25,
   "metadata": {},
   "outputs": [
    {
     "name": "stdout",
     "output_type": "stream",
     "text": [
      "[-0.05026221 -0.04519953 -0.04013685 -0.03507416 -0.03001148 -0.0249488\n",
      " -0.01988611 -0.01482343 -0.00976074 -0.00469806  0.00036462  0.00542731\n",
      "  0.01048999  0.01555267  0.02061536  0.02567804  0.03074072  0.03580341\n",
      "  0.04086609  0.04592877  0.05099146]\n"
     ]
    }
   ],
   "source": [
    "# Sanity check for first order sobol index\n",
    "index = 0\n",
    "n_points = n_quadrature_points[\"V_wall\"]\n",
    "sobol = np.zeros((n_points, ))\n",
    "for idx in range(n_points):\n",
    "    another_key = \"c_1\"\n",
    "    temp = quadrature_weights[another_key] * numerical_pdfs[another_key]\n",
    "    another_key = \"nu_s\"\n",
    "    another_temp = quadrature_weights[another_key] * numerical_pdfs[another_key]\n",
    "    sobol[idx] = np.sum(f_evals[:, idx, :] * np.outer(temp, another_temp))\n",
    "    \n",
    "print(sobol - sobol_indices[\"f_0\"])"
   ]
  },
  {
   "cell_type": "code",
   "execution_count": null,
   "metadata": {},
   "outputs": [],
   "source": [
    "# Sanity check for second order sobol indices\n",
    "key1 = \"c_1\"\n",
    "key2 = \"nu_s\"\n",
    "local_params = parameter_keys.copy()\n",
    "local_params.remove(key1)\n",
    "local_params.remove(key2)\n",
    "key3 = local_params[0]\n",
    "\n",
    "n_points1 = n_quadrature_points[key1]\n",
    "n_points2 = n_quadrature_points[key2]\n",
    "\n",
    "sobol2 = np.zeros((n_points1, n_points2))\n",
    "\n",
    "for i in range(n_points1):\n",
    "    for j in range(n_points2):    \n",
    "        temp = quadrature_pdfs[key3]\n",
    "        s = (i, slice(None), j)\n",
    "        sobol2[i, j] = np.sum(f_evals[s] * temp) - sobol_indices[key1][i] - sobol_indices[key2][j] - sobol_indices[\"f_0\"]\n",
    "sobol2"
   ]
  }
 ],
 "metadata": {
  "kernelspec": {
   "display_name": "Python 3",
   "language": "python",
   "name": "python3"
  },
  "language_info": {
   "codemirror_mode": {
    "name": "ipython",
    "version": 3
   },
   "file_extension": ".py",
   "mimetype": "text/x-python",
   "name": "python",
   "nbconvert_exporter": "python",
   "pygments_lexer": "ipython3",
   "version": "3.9.6"
  }
 },
 "nbformat": 4,
 "nbformat_minor": 4
}
