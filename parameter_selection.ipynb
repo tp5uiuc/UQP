{
 "cells": [
  {
   "cell_type": "markdown",
   "metadata": {},
   "source": [
    "# Selecting identifiable parameters"
   ]
  },
  {
   "cell_type": "code",
   "execution_count": 2,
   "metadata": {},
   "outputs": [],
   "source": [
    "import numpy as np\n",
    "import matplotlib.pyplot as plt\n",
    "\n",
    "# from functools import partial\n",
    "from model import NeoHookeanSolutionGenerator\n",
    "\n",
    "%matplotlib inline"
   ]
  },
  {
   "cell_type": "markdown",
   "metadata": {},
   "source": [
    "### We first fix the parameters without any variability"
   ]
  },
  {
   "cell_type": "code",
   "execution_count": 3,
   "metadata": {},
   "outputs": [],
   "source": [
    "# As determined from experiments\n",
    "omega_val = np.pi\n",
    "L_val = 2.0\n",
    "zeta_val = 0.5\n",
    "nu_f_val = 0.125\n",
    "\n",
    "generator = NeoHookeanSolutionGenerator(omega_val, L_val, zeta_val, nu_f_val)"
   ]
  },
  {
   "cell_type": "markdown",
   "metadata": {},
   "source": [
    "###  These parameters however can vary"
   ]
  },
  {
   "cell_type": "code",
   "execution_count": 4,
   "metadata": {},
   "outputs": [],
   "source": [
    "n_params = 3\n",
    "c1_val = 0.0625\n",
    "V_wall_val = 1.0\n",
    "nu_s_val = 0.01\n",
    "\n",
    "v_f, v_s = generator.generate_velocities_for(c1_val, V_wall_val, nu_s_val)"
   ]
  },
  {
   "cell_type": "code",
   "execution_count": 5,
   "metadata": {},
   "outputs": [],
   "source": [
    "res_y = 100\n",
    "res_t = 20\n",
    "Y = np.linspace(0, L_val / 2.0, res_y)\n",
    "# offset = np.pi / 2\n",
    "offset = 0.0\n",
    "T = np.linspace(\n",
    "    0 + offset / omega_val, (2 * np.pi + omega_val) / omega_val, res_t, endpoint=False\n",
    ")\n",
    "y_stations = np.array([0.2, 0.4, 0.6, 0.8])"
   ]
  },
  {
   "cell_type": "markdown",
   "metadata": {},
   "source": [
    "### Uncomment in case you want to see the velocity response"
   ]
  },
  {
   "cell_type": "code",
   "execution_count": 6,
   "metadata": {},
   "outputs": [],
   "source": [
    "# for ts in T:\n",
    "#     # print()\n",
    "#     solid_velocity = (Y < 0.5) * (v_s(Y, ts * np.ones_like(Y)))\n",
    "#     fluid_velocity = (Y >= 0.5) * (v_f(Y, ts * np.ones_like(Y)))\n",
    "#     vel_comb = solid_velocity + fluid_velocity\n",
    "#     # print(ts * omega / (2 * np.pi), np.max(np.abs(solid_velocity)), np.max(np.abs(fluid_velocity)))\n",
    "#     plt.plot(vel_comb, Y, linewidth=3)\n",
    "# # plt.plot(np.linspace(-V_wall_val, V_wall_val, 10), L_s * np.ones(10), '-.', c=\"k\")"
   ]
  },
  {
   "cell_type": "code",
   "execution_count": 7,
   "metadata": {},
   "outputs": [],
   "source": [
    "# offset = 0.0\n",
    "# res_t = 20\n",
    "# T = np.linspace(0 + offset / omega_val, (2 * np.pi) / omega_val, res_t, endpoint=False)\n",
    "# y_stations = np.array([0.2, 0.4, 0.6, 0.8])\n",
    "# y_profiles = np.zeros((len(y_stations), len(T)))\n",
    "\n",
    "# for i_station, y_station in enumerate(y_stations):\n",
    "#     solid_velocity = v_s(y_station, T)\n",
    "#     fluid_velocity = v_f(y_station, T)\n",
    "#     solid_mask = (y_station < 0.5)\n",
    "#     y_profiles[i_station] = solid_mask * solid_velocity + (1.0 - solid_mask) * fluid_velocity"
   ]
  },
  {
   "cell_type": "code",
   "execution_count": 8,
   "metadata": {},
   "outputs": [],
   "source": [
    "# for profile in (y_profiles):\n",
    "#     plt.plot(T, profile, linewidth=3)"
   ]
  },
  {
   "cell_type": "markdown",
   "metadata": {},
   "source": [
    "## Parameter identifiability for one set of parameters, across different y and T"
   ]
  },
  {
   "cell_type": "code",
   "execution_count": 9,
   "metadata": {},
   "outputs": [],
   "source": [
    "chi_f, chi_s = generator.generate_sensitivities_for(c1_val, V_wall_val, nu_s_val)"
   ]
  },
  {
   "cell_type": "code",
   "execution_count": 10,
   "metadata": {},
   "outputs": [],
   "source": [
    "chi_matrix = np.zeros((len(y_stations) * len(T), n_params))\n",
    "\n",
    "for i_station, y_station in enumerate(y_stations):\n",
    "    solid_sens = chi_s(y_station, T).squeeze().T  # (len(T), 3)\n",
    "    fluid_sens = chi_f(y_station, T).squeeze().T  # (len(T), 3)\n",
    "    solid_mask = y_station < 0.5\n",
    "    chi_matrix[i_station * len(T) : (i_station + 1) * len(T)] = (\n",
    "        solid_mask * solid_sens + (1.0 - solid_mask) * fluid_sens\n",
    "    )"
   ]
  },
  {
   "cell_type": "code",
   "execution_count": 11,
   "metadata": {},
   "outputs": [
    {
     "data": {
      "text/plain": [
       "(80, 3)"
      ]
     },
     "execution_count": 11,
     "metadata": {},
     "output_type": "execute_result"
    }
   ],
   "source": [
    "chi_matrix.shape"
   ]
  },
  {
   "cell_type": "code",
   "execution_count": 16,
   "metadata": {},
   "outputs": [],
   "source": [
    "from scipy.linalg import qr\n",
    "Q, R, P = qr(chi_matrix, pivoting=True)\n",
    "# Q"
   ]
  },
  {
   "cell_type": "code",
   "execution_count": 17,
   "metadata": {},
   "outputs": [
    {
     "data": {
      "text/plain": [
       "80"
      ]
     },
     "execution_count": 17,
     "metadata": {},
     "output_type": "execute_result"
    }
   ],
   "source": [
    "np.linalg.matrix_rank(Q)"
   ]
  },
  {
   "cell_type": "markdown",
   "metadata": {},
   "source": [
    "## Parameter identifiability across a range of parameters"
   ]
  },
  {
   "cell_type": "code",
   "execution_count": 18,
   "metadata": {},
   "outputs": [],
   "source": [
    "# c1_val = 0.0625\n",
    "# V_wall_val = 1.0\n",
    "# nu_s_val = 0.0\n",
    "from itertools import product\n",
    "\n",
    "c1_vals = [0.03125, 0.0625, 0.125]\n",
    "V_wall_vals = [0.8, 0.9, 1.0]\n",
    "nu_s_vals = [0.0, 0.00625, 0.0125]\n",
    "\n",
    "chi_matrix_across_params = np.zeros((3 * 3 * 3, n_params))\n",
    "\n",
    "y_station = 0.2\n",
    "t_station = 1.0\n",
    "\n",
    "for i_p, (p_c1_val, p_V_wall_val, p_nu_s_val) in enumerate(product(c1_vals, V_wall_vals, nu_s_vals)): \n",
    "    chi_f, chi_s = generator.generate_sensitivities_for(p_c1_val, p_V_wall_val, p_nu_s_val)\n",
    "    \n",
    "    # for i_station, y_station in enumerate(y_stations):\n",
    "    solid_sens = chi_s(y_station, t_station).squeeze().T  # (len(T), 3)\n",
    "    fluid_sens = chi_f(y_station, t_station).squeeze().T  # (len(T), 3)\n",
    "    solid_mask = y_station < 0.5\n",
    "    chi_matrix_across_params[i_p] = (\n",
    "        solid_mask * solid_sens + (1.0 - solid_mask) * fluid_sens\n",
    "    )"
   ]
  },
  {
   "cell_type": "code",
   "execution_count": 19,
   "metadata": {},
   "outputs": [
    {
     "data": {
      "text/plain": [
       "array([[-9.01635638e-01, -4.32495437e-01,  9.35010885e-04],\n",
       "       [ 3.67871432e-03, -5.50727095e-03,  9.99978068e-01],\n",
       "       [-4.32480802e-01,  9.01619303e-01,  6.55657891e-03]])"
      ]
     },
     "execution_count": 19,
     "metadata": {},
     "output_type": "execute_result"
    }
   ],
   "source": [
    "Q, R, P = qr(chi_matrix_across_params.T, pivoting=True)\n",
    "Q"
   ]
  },
  {
   "cell_type": "markdown",
   "metadata": {},
   "source": [
    "As we see above, Q is full rank. We reconfirm this using a rank-revealing SVD, via numpy `matrix_rank`."
   ]
  },
  {
   "cell_type": "code",
   "execution_count": 20,
   "metadata": {},
   "outputs": [
    {
     "data": {
      "text/plain": [
       "3"
      ]
     },
     "execution_count": 20,
     "metadata": {},
     "output_type": "execute_result"
    }
   ],
   "source": [
    "np.linalg.matrix_rank(chi_matrix_across_params.T)"
   ]
  }
 ],
 "metadata": {
  "kernelspec": {
   "display_name": "Python 3",
   "language": "python",
   "name": "python3"
  },
  "language_info": {
   "codemirror_mode": {
    "name": "ipython",
    "version": 3
   },
   "file_extension": ".py",
   "mimetype": "text/x-python",
   "name": "python",
   "nbconvert_exporter": "python",
   "pygments_lexer": "ipython3",
   "version": "3.9.6"
  }
 },
 "nbformat": 4,
 "nbformat_minor": 4
}
